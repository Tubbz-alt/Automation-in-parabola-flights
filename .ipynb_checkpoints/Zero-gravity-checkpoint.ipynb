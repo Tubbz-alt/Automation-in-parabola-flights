{
 "cells": [
  {
   "cell_type": "markdown",
   "metadata": {},
   "source": [
    "# Boiling experiment in zero gravity\n",
    "\n",
    "**Nguyen Dang Minh, PhD**\n",
    "\n",
    "This notebook describes the equipments and code used during my boiling experiment in zero gravity environment using parabolic flights. The flights were carried out by European Space Agency during the 67th parabolic flight campaigns in Bordeaux, November, 2017."
   ]
  },
  {
   "cell_type": "markdown",
   "metadata": {},
   "source": [
    "## Introduction\n",
    "\n",
    "### Why did we do this?\n",
    "\n",
    "You use boiling every day, to do cooking or to cool down your computer. It is a very efficient form of heat transfer and also very easy to create: just put heat into water then you will have boiling, or is it? Well, on earth, yes it is. But out there, in space, then no, it is not, for very simple reason: boiling relies on convection, and convection relies on gravity. So without gravity, there is no boiling. The question is: can there be a way to boil water without gravity so that our fellow astronauts to enjoy a hot cup of coffee in space?\n",
    "\n",
    "Recently, we discover a new boiling mechanism named *Oscillate boiling* that not only works better than the normal boiling you know, but also has an amazing feature that it does not depend on gravity. How is that possible? For that, please read our paper [Oscillate boiling from microheaters](https://journals.aps.org/prfluids/abstract/10.1103/PhysRevFluids.2.014007) and [Oscillate boiling from eletrical microheaters](https://journals.aps.org/prapplied/abstract/10.1103/PhysRevApplied.10.044064) for more details.\n",
    "\n",
    "Ok, so we claim that this boiling can work without gravity, but nobody is going to believe unless we actually prove that. And that is why we are doing this experiment to show this *Oscillate boiling* works independent of gravity. The detailed results and physical explanation is being submitted as a scientific paper. Here I describe the experiment and the code to control and automate the setup, which took me 6 months to finish.\n",
    "\n",
    "### How do you create zero gravity on earth?\n",
    "\n",
    "You are on earth so there is no way to escape gravity, that's for sure. But what if you let yourself free falling, and everything surrounding you, including whatever you are standing in, are also free falling? If so, to them, you are not falling but just floating in mid air. That's zero gravity and that's how parabolic flight works.\n",
    "\n",
    "\n",
    "<img src='Figures/g_profile.png' width=\"550\" alt>\n",
    "<center> Figure 1. The trajectory of the flight and the \"effective\" gravity inside the cabin </center>\n",
    "\n",
    "Apparently, the plane shoot itself up the air, then turn off the engine. At that moment, the plane and everything inside it are free falling. Because of that, there is an effective zero gravity inside the cabin. This period lasts for 20 seconds and that's when our experiment starts. As for the plane, just like when you throw some thing into mid air, it flies in a parabolic trajectory, which gives it the name \"parabolic flight\". This zero gravity - parabolic trajectory lasts for 20 seconds, then the engine is turned back on and the plan is ready for the next maneuver. "
   ]
  },
  {
   "cell_type": "markdown",
   "metadata": {},
   "source": [
    "## How we conducted the test\n",
    "\n",
    "### Experimental setup\n",
    "\n",
    "<img src='Figures/exp_setup_vertical.png' width=\"500\" alt>\n",
    "<center> Figure 2. (a) The electrical connection of the experiment (b) The mechanical design of the experiment </center>\n",
    "\n",
    "### Experimental procedure\n",
    "\n",
    "* Before entering the parabola, all equipment are in standby state, waiting for the trigger.\n",
    "* An accelerometer is used to detect gravity. Once that value falls below 5% of the normal gravity, indicating the plane entering the parabola, a triggering signal is sent to a microcontroller.\n",
    "* The microcontroller receives that signal, then triggers simulatenously the current controller, high speed camera and data acquisition board.\n",
    "* The experiment runs for 1 second, during which the data is stored locally in the high speed camera and the acquisition board.\n",
    "* After the experiment ends, the data is transfered to the computer and all equipment goes back to stand-by stage.\n",
    "\n",
    "### Equipment used\n",
    "\n",
    "* Accelerometer: [Adafruit LIS3DH](https://www.adafruit.com/product/2809)\n",
    "* Microcontroller: [Teensy 3.6](https://www.pjrc.com/store/teensy36.html)\n",
    "* Current controller: [Thorslab LDC220c](https://www.thorlabs.de/thorproduct.cfm?partnumber=LDC220C)\n",
    "* Data acquisition board: [MCDAQ USB-2020](https://www.mccdaq.com/usb-data-acquisition/USB-2020.aspx)\n",
    "* High speed camera: [Basler 1920-155um](https://www.baslerweb.com/en/products/cameras/area-scan-cameras/ace/aca1920-155um/)\n",
    "* Lens: [Canon Makro lens MO-E65mm](https://www.canon.de/lenses/mp-e-65mm-f-2-8-1-5x-macro-photo-lens/)\n",
    "* LED: [Cree CXB1304](https://www.cree.com/led-components/products/xlamp-leds-integrated-arrays/xlamp-cxb1304)\n",
    "* Translational stage: [Thorlabs PT3/M-25mm](https://www.thorlabs.de/thorproduct.cfm?partnumber=PT3/M#ad-image-0)\n",
    "* Amplifying circuit: home-built, following this [paper](http://iopscience.iop.org/article/10.1088/0957-0233/21/7/075402/meta)\n",
    "\n",
    "<img src='Figures/setup_photo_top.png' width=\"400\" alt>\n",
    "<center> Figure 3. The top-view image of the experimental setup </center>\n",
    "\n",
    "The use of a data acquisition board and a USB-connected camera instead of the oscilloscopes and conventional high speed cameras save weight, size and costs of the setup. The experiments enclosing dimension reduces to only 50 $\\times$ 30 $\\times$ 25 cm$^3$ with a total weight of only 5 kg. The total cost is approximately 10,000 USD. The setup may be used individually or as we operated it attached and on top of a separate enclosed experiment. Its components can be easily assembled/dissembled during transportation.\n",
    "\n",
    "### Automation\n",
    "\n",
    "The parameters are preset before the flight, once the flight start, every step in the **procedure** section are automated due to two main reasons:\n",
    "* The zero gravity duration is very short. There is only 20 seconds available with multiple measurements to be done. Manual control are too slow for that\n",
    "* During the zero gravity (and hyper gravity before that) the experimentalist's body are either floating or experiencing extreme physical stress, making it physically and mentally difficult and dangerous to manually perform experiments.\n",
    "\n",
    "There are two programs written to automate this experiments.\n",
    "* The first program written in **C++**, to control the functionality of the microcontroller. The code can be found in the **\"Teensy 3.6\"** folder.\n",
    "* The second program written in **Visual Basic**, to control the data acquistion board and construct an user interface. This program is connected with the first program via serial port connection. The code can be found in the folder **\"USB 2020\"**\n",
    "\n",
    "<img src='Figures/user_interface.png' width=\"400\" alt>\n",
    "<center> Figure 4. The user interface </center>"
   ]
  },
  {
   "cell_type": "markdown",
   "metadata": {},
   "source": [
    "## Concluding remarks\n",
    "\n",
    "The resulst of the experiment shows that this new *Oscillate boiling* mechanism work regardless of gravity. A detailed physical explanation has been submitted as a scientific paper and is currently waiting for review.\n",
    "\n",
    "<img src='Figures/in_cabin.jpg' width=\"500\" alt>\n",
    "<center> Me (middle) and two excellent collaborators: Danail Obreschkow (lef) and Outi Supponen (right). Without them, I would have never been able to complete this experiment. </center>"
   ]
  },
  {
   "cell_type": "code",
   "execution_count": null,
   "metadata": {},
   "outputs": [],
   "source": []
  }
 ],
 "metadata": {
  "kernelspec": {
   "display_name": "Python 3",
   "language": "python",
   "name": "python3"
  },
  "language_info": {
   "codemirror_mode": {
    "name": "ipython",
    "version": 3
   },
   "file_extension": ".py",
   "mimetype": "text/x-python",
   "name": "python",
   "nbconvert_exporter": "python",
   "pygments_lexer": "ipython3",
   "version": "3.5.6"
  }
 },
 "nbformat": 4,
 "nbformat_minor": 2
}
